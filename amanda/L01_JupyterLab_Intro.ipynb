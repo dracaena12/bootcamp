{
 "cells": [
  {
   "cell_type": "code",
   "execution_count": 1,
   "id": "3e31e5fb-2320-46bb-8603-28e951ac3ae9",
   "metadata": {},
   "outputs": [
    {
     "name": "stdout",
     "output_type": "stream",
     "text": [
      "Hello World\n"
     ]
    }
   ],
   "source": [
    "print('Hello World')"
   ]
  },
  {
   "cell_type": "code",
   "execution_count": 3,
   "id": "cc930aa2-d66f-4c16-996e-5890664f2499",
   "metadata": {},
   "outputs": [
    {
     "name": "stdout",
     "output_type": "stream",
     "text": [
      "Beautiful is better than ugly.\n",
      "Explicit is better than implicit.\n",
      "Simple is better than complex.\n",
      "Complex is better than complicated.\n"
     ]
    }
   ],
   "source": [
    "# Print the first few lines of the Zen of Python\n",
    "print('Beautiful is better than ugly.')\n",
    "print('Explicit is better than implicit.')\n",
    "print('Simple is better than complex.')\n",
    "print('Complex is better than complicated.')"
   ]
  },
  {
   "cell_type": "markdown",
   "id": "98380907-6afa-4b53-99e9-1e6fba638c3d",
   "metadata": {},
   "source": [
    "This is a Markdown cell. HTML is also a mark-up language: (HTML = Hypertext markup language).\n",
    "# This is a Heading\n",
    "This is **bold** text\n",
    "This is *italisized* text\n",
    "Yes I can even do math, $E = mc^2$."
   ]
  },
  {
   "cell_type": "code",
   "execution_count": 6,
   "id": "c3c594d6-694b-461b-9a17-2b95d6828d89",
   "metadata": {},
   "outputs": [
    {
     "data": {
      "text/plain": [
       "3"
      ]
     },
     "execution_count": 6,
     "metadata": {},
     "output_type": "execute_result"
    }
   ],
   "source": [
    "7+8\n",
    "9-6\n",
    "# Result of cell will only display the last entry"
   ]
  },
  {
   "cell_type": "code",
   "execution_count": null,
   "id": "a459ce1f-96e5-4af6-af94-6d54f65ca41b",
   "metadata": {},
   "outputs": [],
   "source": []
  }
 ],
 "metadata": {
  "kernelspec": {
   "display_name": "Python 3",
   "language": "python",
   "name": "python3"
  },
  "language_info": {
   "codemirror_mode": {
    "name": "ipython",
    "version": 3
   },
   "file_extension": ".py",
   "mimetype": "text/x-python",
   "name": "python",
   "nbconvert_exporter": "python",
   "pygments_lexer": "ipython3",
   "version": "3.8.10"
  }
 },
 "nbformat": 4,
 "nbformat_minor": 5
}
